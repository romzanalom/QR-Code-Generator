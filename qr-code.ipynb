{
 "cells": [
  {
   "cell_type": "markdown",
   "id": "3d8370a3",
   "metadata": {
    "papermill": {
     "duration": 0.00415,
     "end_time": "2024-01-08T11:06:58.390755",
     "exception": false,
     "start_time": "2024-01-08T11:06:58.386605",
     "status": "completed"
    },
    "tags": []
   },
   "source": [
    "# Install the package"
   ]
  },
  {
   "cell_type": "code",
   "execution_count": 1,
   "id": "624790f4",
   "metadata": {
    "execution": {
     "iopub.execute_input": "2024-01-08T11:06:58.401907Z",
     "iopub.status.busy": "2024-01-08T11:06:58.401202Z",
     "iopub.status.idle": "2024-01-08T11:07:11.344558Z",
     "shell.execute_reply": "2024-01-08T11:07:11.342893Z"
    },
    "papermill": {
     "duration": 12.950492,
     "end_time": "2024-01-08T11:07:11.346746",
     "exception": false,
     "start_time": "2024-01-08T11:06:58.396254",
     "status": "completed"
    },
    "tags": []
   },
   "outputs": [
    {
     "name": "stdout",
     "output_type": "stream",
     "text": [
      "Collecting qrcode\r\n",
      "  Downloading qrcode-7.4.2-py3-none-any.whl (46 kB)\r\n",
      "\u001b[2K     \u001b[90m━━━━━━━━━━━━━━━━━━━━━━━━━━━━━━━━━━━━━━━━\u001b[0m \u001b[32m46.2/46.2 kB\u001b[0m \u001b[31m2.4 MB/s\u001b[0m eta \u001b[36m0:00:00\u001b[0m\r\n",
      "\u001b[?25hRequirement already satisfied: typing-extensions in /opt/conda/lib/python3.10/site-packages (from qrcode) (4.6.3)\r\n",
      "Collecting pypng (from qrcode)\r\n",
      "  Downloading pypng-0.20220715.0-py3-none-any.whl (58 kB)\r\n",
      "\u001b[2K     \u001b[90m━━━━━━━━━━━━━━━━━━━━━━━━━━━━━━━━━━━━━━━━\u001b[0m \u001b[32m58.1/58.1 kB\u001b[0m \u001b[31m4.8 MB/s\u001b[0m eta \u001b[36m0:00:00\u001b[0m\r\n",
      "\u001b[?25hInstalling collected packages: pypng, qrcode\r\n",
      "Successfully installed pypng-0.20220715.0 qrcode-7.4.2\r\n",
      "Note: you may need to restart the kernel to use updated packages.\n"
     ]
    }
   ],
   "source": [
    "pip install qrcode"
   ]
  },
  {
   "cell_type": "code",
   "execution_count": 2,
   "id": "09ce31a3",
   "metadata": {
    "execution": {
     "iopub.execute_input": "2024-01-08T11:07:11.357504Z",
     "iopub.status.busy": "2024-01-08T11:07:11.356764Z",
     "iopub.status.idle": "2024-01-08T11:07:45.017545Z",
     "shell.execute_reply": "2024-01-08T11:07:45.016104Z"
    },
    "papermill": {
     "duration": 33.669034,
     "end_time": "2024-01-08T11:07:45.020242",
     "exception": false,
     "start_time": "2024-01-08T11:07:11.351208",
     "status": "completed"
    },
    "tags": []
   },
   "outputs": [
    {
     "name": "stdout",
     "output_type": "stream",
     "text": [
      "Requirement already satisfied: qrcode[pil] in /opt/conda/lib/python3.10/site-packages (7.4.2)\r\n",
      "Requirement already satisfied: typing-extensions in /opt/conda/lib/python3.10/site-packages (from qrcode[pil]) (4.6.3)\r\n",
      "Requirement already satisfied: pypng in /opt/conda/lib/python3.10/site-packages (from qrcode[pil]) (0.20220715.0)\r\n",
      "Requirement already satisfied: pillow>=9.1.0 in /opt/conda/lib/python3.10/site-packages (from qrcode[pil]) (9.5.0)\r\n",
      "Collecting pyzbar\r\n",
      "  Downloading pyzbar-0.1.9-py2.py3-none-any.whl (32 kB)\r\n",
      "Installing collected packages: pyzbar\r\n",
      "Successfully installed pyzbar-0.1.9\r\n",
      "Requirement already satisfied: opencv-python-headless in /opt/conda/lib/python3.10/site-packages (4.8.0.76)\r\n",
      "Requirement already satisfied: numpy>=1.21.2 in /opt/conda/lib/python3.10/site-packages (from opencv-python-headless) (1.23.5)\r\n"
     ]
    }
   ],
   "source": [
    "!pip install qrcode[pil]\n",
    "!pip install pyzbar\n",
    "!pip install opencv-python-headless"
   ]
  },
  {
   "cell_type": "markdown",
   "id": "6945bf46",
   "metadata": {
    "papermill": {
     "duration": 0.004478,
     "end_time": "2024-01-08T11:07:45.029624",
     "exception": false,
     "start_time": "2024-01-08T11:07:45.025146",
     "status": "completed"
    },
    "tags": []
   },
   "source": [
    "# Generate a Sample QR Code"
   ]
  },
  {
   "cell_type": "code",
   "execution_count": 3,
   "id": "c1e21b46",
   "metadata": {
    "execution": {
     "iopub.execute_input": "2024-01-08T11:07:45.041098Z",
     "iopub.status.busy": "2024-01-08T11:07:45.040681Z",
     "iopub.status.idle": "2024-01-08T11:07:45.117283Z",
     "shell.execute_reply": "2024-01-08T11:07:45.116402Z"
    },
    "papermill": {
     "duration": 0.085565,
     "end_time": "2024-01-08T11:07:45.119798",
     "exception": false,
     "start_time": "2024-01-08T11:07:45.034233",
     "status": "completed"
    },
    "tags": []
   },
   "outputs": [],
   "source": [
    "import qrcode\n",
    "\n",
    "first_name = \"Md.Romzan \"\n",
    "last_name = \"Alom\"\n",
    "email = \"romzan803264@gmail.com\"\n",
    "phone_number = \"+8801741081876\"\n",
    "\n",
    "Romzan = f\"BEGIN:VCARD\\nVERSION:3.0\\nN:{last_name};{first_name};;;\\nFN:{first_name}{last_name}\\nEMAIL;TYPE=INTERNET:{email}\\nTEL;TYPE=CELL:{phone_number}\\nEND:VCARD\"\n",
    "\n",
    "img = qrcode.make(Romzan)\n",
    "img.save(\"Romzan.png\")\n"
   ]
  },
  {
   "cell_type": "markdown",
   "id": "2c7ebe61",
   "metadata": {
    "papermill": {
     "duration": 0.004326,
     "end_time": "2024-01-08T11:07:45.128936",
     "exception": false,
     "start_time": "2024-01-08T11:07:45.124610",
     "status": "completed"
    },
    "tags": []
   },
   "source": [
    "# Link in QR Code"
   ]
  },
  {
   "cell_type": "code",
   "execution_count": 4,
   "id": "f4e1b36c",
   "metadata": {
    "execution": {
     "iopub.execute_input": "2024-01-08T11:07:45.140933Z",
     "iopub.status.busy": "2024-01-08T11:07:45.139839Z",
     "iopub.status.idle": "2024-01-08T11:07:45.160357Z",
     "shell.execute_reply": "2024-01-08T11:07:45.159240Z"
    },
    "papermill": {
     "duration": 0.02901,
     "end_time": "2024-01-08T11:07:45.162782",
     "exception": false,
     "start_time": "2024-01-08T11:07:45.133772",
     "status": "completed"
    },
    "tags": []
   },
   "outputs": [],
   "source": [
    "import qrcode\n",
    "img = qrcode.make(\"https://github.com/romzanalom\")\n",
    "img.save(\"Link.png\")\n"
   ]
  },
  {
   "cell_type": "markdown",
   "id": "d266d08f",
   "metadata": {
    "papermill": {
     "duration": 0.004345,
     "end_time": "2024-01-08T11:07:45.171940",
     "exception": false,
     "start_time": "2024-01-08T11:07:45.167595",
     "status": "completed"
    },
    "tags": []
   },
   "source": [
    "# Experiment "
   ]
  },
  {
   "cell_type": "code",
   "execution_count": 5,
   "id": "9cef9364",
   "metadata": {
    "execution": {
     "iopub.execute_input": "2024-01-08T11:07:45.182717Z",
     "iopub.status.busy": "2024-01-08T11:07:45.182327Z",
     "iopub.status.idle": "2024-01-08T11:07:45.202058Z",
     "shell.execute_reply": "2024-01-08T11:07:45.200995Z"
    },
    "papermill": {
     "duration": 0.027921,
     "end_time": "2024-01-08T11:07:45.204371",
     "exception": false,
     "start_time": "2024-01-08T11:07:45.176450",
     "status": "completed"
    },
    "tags": []
   },
   "outputs": [],
   "source": [
    "import qrcode\n",
    "\n",
    "# Create a QR code instance\n",
    "qr = qrcode.QRCode(\n",
    "    version=1,\n",
    "    error_correction=qrcode.constants.ERROR_CORRECT_H,\n",
    "    box_size=10,\n",
    "    border=4,\n",
    ")\n",
    "\n",
    "# Provide the data you want to encode\n",
    "data = \"Md.Romzan Alom!\"\n",
    "\n",
    "# Add the data to the QR code\n",
    "qr.add_data(data)\n",
    "qr.make(fit=True)\n",
    "\n",
    "# Create an image from the QR code\n",
    "qr_image = qr.make_image(fill_color=\"black\", back_color=\"white\")\n",
    "\n",
    "# Save the image\n",
    "qr_image.save(\"qr_code.png\")"
   ]
  },
  {
   "cell_type": "code",
   "execution_count": 6,
   "id": "bbfd2872",
   "metadata": {
    "execution": {
     "iopub.execute_input": "2024-01-08T11:07:45.216485Z",
     "iopub.status.busy": "2024-01-08T11:07:45.216058Z",
     "iopub.status.idle": "2024-01-08T11:07:45.259162Z",
     "shell.execute_reply": "2024-01-08T11:07:45.258010Z"
    },
    "papermill": {
     "duration": 0.052289,
     "end_time": "2024-01-08T11:07:45.261883",
     "exception": false,
     "start_time": "2024-01-08T11:07:45.209594",
     "status": "completed"
    },
    "tags": []
   },
   "outputs": [],
   "source": [
    "import qrcode\n",
    "\n",
    "def generate_qr_code(data):\n",
    "    # Create a QR code instance\n",
    "    qr = qrcode.QRCode(\n",
    "        version=1,\n",
    "        error_correction=qrcode.constants.ERROR_CORRECT_H,\n",
    "        box_size=10,\n",
    "        border=4,\n",
    "    )\n",
    "\n",
    "    # Add the data to the QR code\n",
    "    qr.add_data(data)\n",
    "    qr.make(fit=True)\n",
    "\n",
    "    # Create an image from the QR code\n",
    "    qr_image = qr.make_image(fill_color=\"black\", back_color=\"white\")\n",
    "\n",
    "    # Return the QR code image object\n",
    "    return qr_image\n",
    "\n",
    "# Example usage:\n",
    "file_path = \"/kaggle/input/data-communication-project\"\n",
    "qr_code_image = generate_qr_code(file_path)\n",
    "qr_code_image.save(\"qr_code_file.png\")  # Save the QR code as an image file\n",
    "\n",
    "# Alternatively, you can pass a URL as input\n",
    "url = \"https://www.example.com\"\n",
    "qr_code_image = generate_qr_code(url)\n",
    "qr_code_image.save(\"qr_code_link.png\")  # Save the QR code as an image file"
   ]
  },
  {
   "cell_type": "code",
   "execution_count": 7,
   "id": "1e210741",
   "metadata": {
    "execution": {
     "iopub.execute_input": "2024-01-08T11:07:45.273104Z",
     "iopub.status.busy": "2024-01-08T11:07:45.272704Z",
     "iopub.status.idle": "2024-01-08T11:07:45.285306Z",
     "shell.execute_reply": "2024-01-08T11:07:45.284302Z"
    },
    "papermill": {
     "duration": 0.020734,
     "end_time": "2024-01-08T11:07:45.287511",
     "exception": false,
     "start_time": "2024-01-08T11:07:45.266777",
     "status": "completed"
    },
    "tags": []
   },
   "outputs": [],
   "source": [
    "import qrcode\n",
    "\n",
    "data = \"Hello, Romzan!\"\n",
    "qr = qrcode.QRCode(version=1, error_correction=qrcode.constants.ERROR_CORRECT_L, box_size=10, border=4)\n",
    "qr.add_data(data)\n",
    "qr.make(fit=True)\n",
    "\n",
    "image = qr.make_image(fill_color=\"black\", back_color=\"white\")\n",
    "image.save(\"qrcode.png\")"
   ]
  },
  {
   "cell_type": "code",
   "execution_count": 8,
   "id": "24973d31",
   "metadata": {
    "execution": {
     "iopub.execute_input": "2024-01-08T11:07:45.300311Z",
     "iopub.status.busy": "2024-01-08T11:07:45.299907Z",
     "iopub.status.idle": "2024-01-08T11:07:45.632301Z",
     "shell.execute_reply": "2024-01-08T11:07:45.631013Z"
    },
    "papermill": {
     "duration": 0.341388,
     "end_time": "2024-01-08T11:07:45.634430",
     "exception": false,
     "start_time": "2024-01-08T11:07:45.293042",
     "status": "completed"
    },
    "tags": []
   },
   "outputs": [
    {
     "name": "stdout",
     "output_type": "stream",
     "text": [
      "QR Code data: BEGIN:VCARD\n",
      "VERSION:3.0\n",
      "N:Alom;Md.Romzan ;;;\n",
      "FN:Md.Romzan Alom\n",
      "EMAIL;TYPE=INTERNET:romzan803264@gmail.com\n",
      "TEL;TYPE=CELL:+8801741081876\n",
      "END:VCARD\n",
      "Bounding box coordinates: [[[ 41.  41.]\n",
      "  [528.  41.]\n",
      "  [528. 528.]\n",
      "  [ 41. 528.]]]\n"
     ]
    }
   ],
   "source": [
    "import cv2\n",
    "\n",
    "image_path = \"/kaggle/working/Romzan.png\"\n",
    "\n",
    "# Load the image\n",
    "image = cv2.imread(image_path)\n",
    "\n",
    "# Create a QR code detector\n",
    "qr_code_detector = cv2.QRCodeDetector()\n",
    "\n",
    "# Detect and decode QR code\n",
    "data, bbox, _ = qr_code_detector.detectAndDecode(image)\n",
    "\n",
    "# Process the detected QR code\n",
    "if len(data) > 0:\n",
    "    print(\"QR Code data:\", data)\n",
    "    print(\"Bounding box coordinates:\", bbox)\n",
    "else:\n",
    "    print(\"No QR Code found.\")"
   ]
  },
  {
   "cell_type": "code",
   "execution_count": 9,
   "id": "eeb26a7f",
   "metadata": {
    "execution": {
     "iopub.execute_input": "2024-01-08T11:07:45.645409Z",
     "iopub.status.busy": "2024-01-08T11:07:45.645053Z",
     "iopub.status.idle": "2024-01-08T11:07:45.660697Z",
     "shell.execute_reply": "2024-01-08T11:07:45.659675Z"
    },
    "papermill": {
     "duration": 0.02376,
     "end_time": "2024-01-08T11:07:45.662990",
     "exception": false,
     "start_time": "2024-01-08T11:07:45.639230",
     "status": "completed"
    },
    "tags": []
   },
   "outputs": [
    {
     "name": "stdout",
     "output_type": "stream",
     "text": [
      "[[False, False, False, False, False, False, False, False, False, False, False, False, False, False, False, False, False, False, False, False, False, False, False, False, False, False, False, False, False], [False, False, False, False, False, False, False, False, False, False, False, False, False, False, False, False, False, False, False, False, False, False, False, False, False, False, False, False, False], [False, False, False, False, False, False, False, False, False, False, False, False, False, False, False, False, False, False, False, False, False, False, False, False, False, False, False, False, False], [False, False, False, False, False, False, False, False, False, False, False, False, False, False, False, False, False, False, False, False, False, False, False, False, False, False, False, False, False], [False, False, False, False, True, True, True, True, True, True, True, False, False, False, True, False, False, False, True, True, True, True, True, True, True, False, False, False, False], [False, False, False, False, True, False, False, False, False, False, True, False, True, True, False, True, True, False, True, False, False, False, False, False, True, False, False, False, False], [False, False, False, False, True, False, True, True, True, False, True, False, True, False, True, True, True, False, True, False, True, True, True, False, True, False, False, False, False], [False, False, False, False, True, False, True, True, True, False, True, False, True, False, True, True, False, False, True, False, True, True, True, False, True, False, False, False, False], [False, False, False, False, True, False, True, True, True, False, True, False, False, False, True, False, True, False, True, False, True, True, True, False, True, False, False, False, False], [False, False, False, False, True, False, False, False, False, False, True, False, False, True, True, True, False, False, True, False, False, False, False, False, True, False, False, False, False], [False, False, False, False, True, True, True, True, True, True, True, False, True, False, True, False, True, False, True, True, True, True, True, True, True, False, False, False, False], [False, False, False, False, False, False, False, False, False, False, False, False, True, True, False, False, False, False, False, False, False, False, False, False, False, False, False, False, False], [False, False, False, False, True, False, False, False, False, False, True, False, True, False, True, True, False, True, True, False, False, True, True, True, False, False, False, False, False], [False, False, False, False, False, False, False, True, False, True, False, True, False, False, True, False, True, True, True, True, True, True, True, False, False, False, False, False, False], [False, False, False, False, False, True, True, True, True, True, True, False, True, False, True, False, True, True, True, False, False, True, True, True, False, False, False, False, False], [False, False, False, False, False, True, True, False, True, False, False, True, True, True, False, True, True, True, False, False, False, True, True, False, False, False, False, False, False], [False, False, False, False, True, True, False, True, True, False, True, True, True, False, False, True, True, True, False, True, True, True, False, True, False, False, False, False, False], [False, False, False, False, False, False, False, False, False, False, False, False, True, False, True, False, False, True, True, False, True, True, False, False, False, False, False, False, False], [False, False, False, False, True, True, True, True, True, True, True, False, False, False, False, False, True, True, True, True, False, False, True, True, False, False, False, False, False], [False, False, False, False, True, False, False, False, False, False, True, False, False, False, False, False, True, True, True, False, True, True, True, True, True, False, False, False, False], [False, False, False, False, True, False, True, True, True, False, True, False, False, False, True, True, True, True, True, False, True, False, False, True, True, False, False, False, False], [False, False, False, False, True, False, True, True, True, False, True, False, False, False, True, False, False, False, False, False, True, True, False, False, False, False, False, False, False], [False, False, False, False, True, False, True, True, True, False, True, False, False, False, True, False, True, True, False, True, True, True, True, True, True, False, False, False, False], [False, False, False, False, True, False, False, False, False, False, True, False, False, False, True, False, True, True, False, True, True, True, True, False, False, False, False, False, False], [False, False, False, False, True, True, True, True, True, True, True, False, True, True, False, True, False, False, True, False, True, False, False, True, False, False, False, False, False], [False, False, False, False, False, False, False, False, False, False, False, False, False, False, False, False, False, False, False, False, False, False, False, False, False, False, False, False, False], [False, False, False, False, False, False, False, False, False, False, False, False, False, False, False, False, False, False, False, False, False, False, False, False, False, False, False, False, False], [False, False, False, False, False, False, False, False, False, False, False, False, False, False, False, False, False, False, False, False, False, False, False, False, False, False, False, False, False], [False, False, False, False, False, False, False, False, False, False, False, False, False, False, False, False, False, False, False, False, False, False, False, False, False, False, False, False, False]]\n"
     ]
    }
   ],
   "source": [
    "import qrcode\n",
    "\n",
    "def generate_qr_code(data):\n",
    "    # Step 2: Determine version and error correction level\n",
    "    qr = qrcode.QRCode(\n",
    "        version=None,  # Version will be determined automatically\n",
    "        error_correction=qrcode.constants.ERROR_CORRECT_M,\n",
    "        box_size=10,\n",
    "        border=4\n",
    "    )\n",
    "    \n",
    "    # Step 3: Calculate necessary number of modules\n",
    "    qr.add_data(data)\n",
    "    qr.make(fit=True)\n",
    "    \n",
    "    # Step 4: Reserve space in the matrix\n",
    "    qr_matrix = qr.get_matrix()\n",
    "    qr_size = len(qr_matrix)\n",
    "    \n",
    "    # Step 6: Place alignment patterns\n",
    "    place_alignment_patterns(qr_matrix, qr.version)\n",
    "    \n",
    "    # Step 7: Place timing patterns\n",
    "    place_timing_patterns(qr_matrix)\n",
    "    \n",
    "    # Step 8: Insert format information\n",
    "    insert_format_information(qr_matrix, qr.error_correction, 0)\n",
    "    \n",
    "    # Step 9: Apply mask pattern\n",
    "    best_mask_pattern = choose_best_mask_pattern(qr_matrix)\n",
    "    qr_matrix = apply_mask_pattern(qr_matrix, best_mask_pattern)\n",
    "    \n",
    "    # Step 10: Add quiet zone\n",
    "    qr_matrix_with_quiet_zone = add_quiet_zone(qr_matrix)\n",
    "    \n",
    "    # Return the resulting QR code matrix\n",
    "    return qr_matrix_with_quiet_zone\n",
    "\n",
    "def place_alignment_patterns(matrix, version):\n",
    "    # TODO: Implement logic to place alignment patterns based on QR code version\n",
    "    pass\n",
    "\n",
    "def place_timing_patterns(matrix):\n",
    "    # TODO: Implement logic to place timing patterns\n",
    "    pass\n",
    "\n",
    "def insert_format_information(matrix, error_correction, mask_pattern):\n",
    "    # TODO: Implement logic to insert format information into the matrix\n",
    "    pass\n",
    "\n",
    "def choose_best_mask_pattern(matrix):\n",
    "    # TODO: Implement logic to choose the best mask pattern based on penalty scores\n",
    "    return 0  # Replace with the actual chosen mask pattern\n",
    "\n",
    "def apply_mask_pattern(matrix, mask_pattern):\n",
    "    # TODO: Implement logic to apply the chosen mask pattern to the matrix\n",
    "    return matrix  # Replace with the masked matrix\n",
    "\n",
    "def add_quiet_zone(matrix):\n",
    "    # TODO: Implement logic to add a quiet zone around the matrix\n",
    "    return matrix  # Replace with the matrix with the added quiet zone\n",
    "\n",
    "# Example usage\n",
    "data = \"Hello, World!\"\n",
    "qr_code_matrix = generate_qr_code(data)\n",
    "print(qr_code_matrix)"
   ]
  }
 ],
 "metadata": {
  "kaggle": {
   "accelerator": "none",
   "dataSources": [],
   "dockerImageVersionId": 30558,
   "isGpuEnabled": false,
   "isInternetEnabled": true,
   "language": "python",
   "sourceType": "notebook"
  },
  "kernelspec": {
   "display_name": "Python 3",
   "language": "python",
   "name": "python3"
  },
  "language_info": {
   "codemirror_mode": {
    "name": "ipython",
    "version": 3
   },
   "file_extension": ".py",
   "mimetype": "text/x-python",
   "name": "python",
   "nbconvert_exporter": "python",
   "pygments_lexer": "ipython3",
   "version": "3.10.12"
  },
  "papermill": {
   "default_parameters": {},
   "duration": 51.42326,
   "end_time": "2024-01-08T11:07:46.086900",
   "environment_variables": {},
   "exception": null,
   "input_path": "__notebook__.ipynb",
   "output_path": "__notebook__.ipynb",
   "parameters": {},
   "start_time": "2024-01-08T11:06:54.663640",
   "version": "2.4.0"
  }
 },
 "nbformat": 4,
 "nbformat_minor": 5
}
